{
  "nbformat": 4,
  "nbformat_minor": 0,
  "metadata": {
    "kernelspec": {
      "display_name": "Python 3",
      "language": "python",
      "name": "python3"
    },
    "language_info": {
      "codemirror_mode": {
        "name": "ipython",
        "version": 3
      },
      "file_extension": ".py",
      "mimetype": "text/x-python",
      "name": "python",
      "nbconvert_exporter": "python",
      "pygments_lexer": "ipython3",
      "version": "3.7.6"
    },
    "colab": {
      "provenance": [],
      "include_colab_link": true
    }
  },
  "cells": [
    {
      "cell_type": "markdown",
      "metadata": {
        "id": "view-in-github",
        "colab_type": "text"
      },
      "source": [
        "<a href=\"https://colab.research.google.com/github/barauna-lo/Code_Library/blob/main/exercise_3_snia_mcmc.ipynb\" target=\"_parent\"><img src=\"https://colab.research.google.com/assets/colab-badge.svg\" alt=\"Open In Colab\"/></a>"
      ]
    },
    {
      "cell_type": "markdown",
      "metadata": {
        "id": "vyOF_6rdtXhb"
      },
      "source": [
        "# Numerical Exercise 3: type Ia supernovae and MCMC\n",
        "(thanks to Joe Zuntz for code basis)"
      ]
    },
    {
      "cell_type": "markdown",
      "metadata": {
        "id": "DwcjZ-tltXhg"
      },
      "source": [
        "Here we will use actual SNIa data from the Pantheon collaboration to constrain the matter and cosmological-constant energy densities $\\Omega_M$ and $\\Omega_\\Lambda$ in a non-flat universe. To do that we will use MCMC.\n",
        "\n",
        "As always - everything from scratch!\n"
      ]
    },
    {
      "cell_type": "markdown",
      "metadata": {
        "id": "7nApIhRAtXhg"
      },
      "source": [
        "###First the usual preamble."
      ]
    },
    {
      "cell_type": "code",
      "metadata": {
        "id": "wooN7APmtXhh",
        "colab": {
          "base_uri": "https://localhost:8080/",
          "height": 38
        },
        "outputId": "b6113e60-7b19-43a5-9654-2e0fd9fd6321"
      },
      "source": [
        "%matplotlib inline\n",
        "import numpy as np\n",
        "import matplotlib.pyplot as plt\n",
        "from scipy.integrate import quad # will need for integration ('quadrature')\n",
        "\n",
        "###########################################################################\n",
        "### The block below is entirely optional; it just makes the plots look good\n",
        "### You can copy it to all ipynb files that you do, or not, up to you\n",
        "### requires the myplot_style.txt file that you upload as below\n",
        "### (I will be providing that file)\n",
        "###########################################################################\n",
        "\n",
        "# figure size and resolution\n",
        "plt.rcParams['figure.figsize'] = [8, 5]\n",
        "plt.rcParams['figure.dpi'] = 100 # 200 e.g. is really fine, but slower\n",
        "\n",
        "# style file to make plots look nice (large labels etc)\n",
        "from google.colab import files\n",
        "src = list(files.upload().values())[0]\n",
        "open('myplot_style.txt','wb').write(src)\n",
        "\n",
        "# I will be providing this file - this is optional as I said\n",
        "plt.style.use('myplot_style.txt')\n"
      ],
      "execution_count": null,
      "outputs": [
        {
          "data": {
            "text/html": [
              "\n",
              "     <input type=\"file\" id=\"files-aaad3ade-d883-4628-8784-6d9d08d49d89\" name=\"files[]\" multiple disabled\n",
              "        style=\"border:none\" />\n",
              "     <output id=\"result-aaad3ade-d883-4628-8784-6d9d08d49d89\">\n",
              "      Upload widget is only available when the cell has been executed in the\n",
              "      current browser session. Please rerun this cell to enable.\n",
              "      </output>\n",
              "      <script>// Copyright 2017 Google LLC\n",
              "//\n",
              "// Licensed under the Apache License, Version 2.0 (the \"License\");\n",
              "// you may not use this file except in compliance with the License.\n",
              "// You may obtain a copy of the License at\n",
              "//\n",
              "//      http://www.apache.org/licenses/LICENSE-2.0\n",
              "//\n",
              "// Unless required by applicable law or agreed to in writing, software\n",
              "// distributed under the License is distributed on an \"AS IS\" BASIS,\n",
              "// WITHOUT WARRANTIES OR CONDITIONS OF ANY KIND, either express or implied.\n",
              "// See the License for the specific language governing permissions and\n",
              "// limitations under the License.\n",
              "\n",
              "/**\n",
              " * @fileoverview Helpers for google.colab Python module.\n",
              " */\n",
              "(function(scope) {\n",
              "function span(text, styleAttributes = {}) {\n",
              "  const element = document.createElement('span');\n",
              "  element.textContent = text;\n",
              "  for (const key of Object.keys(styleAttributes)) {\n",
              "    element.style[key] = styleAttributes[key];\n",
              "  }\n",
              "  return element;\n",
              "}\n",
              "\n",
              "// Max number of bytes which will be uploaded at a time.\n",
              "const MAX_PAYLOAD_SIZE = 100 * 1024;\n",
              "\n",
              "function _uploadFiles(inputId, outputId) {\n",
              "  const steps = uploadFilesStep(inputId, outputId);\n",
              "  const outputElement = document.getElementById(outputId);\n",
              "  // Cache steps on the outputElement to make it available for the next call\n",
              "  // to uploadFilesContinue from Python.\n",
              "  outputElement.steps = steps;\n",
              "\n",
              "  return _uploadFilesContinue(outputId);\n",
              "}\n",
              "\n",
              "// This is roughly an async generator (not supported in the browser yet),\n",
              "// where there are multiple asynchronous steps and the Python side is going\n",
              "// to poll for completion of each step.\n",
              "// This uses a Promise to block the python side on completion of each step,\n",
              "// then passes the result of the previous step as the input to the next step.\n",
              "function _uploadFilesContinue(outputId) {\n",
              "  const outputElement = document.getElementById(outputId);\n",
              "  const steps = outputElement.steps;\n",
              "\n",
              "  const next = steps.next(outputElement.lastPromiseValue);\n",
              "  return Promise.resolve(next.value.promise).then((value) => {\n",
              "    // Cache the last promise value to make it available to the next\n",
              "    // step of the generator.\n",
              "    outputElement.lastPromiseValue = value;\n",
              "    return next.value.response;\n",
              "  });\n",
              "}\n",
              "\n",
              "/**\n",
              " * Generator function which is called between each async step of the upload\n",
              " * process.\n",
              " * @param {string} inputId Element ID of the input file picker element.\n",
              " * @param {string} outputId Element ID of the output display.\n",
              " * @return {!Iterable<!Object>} Iterable of next steps.\n",
              " */\n",
              "function* uploadFilesStep(inputId, outputId) {\n",
              "  const inputElement = document.getElementById(inputId);\n",
              "  inputElement.disabled = false;\n",
              "\n",
              "  const outputElement = document.getElementById(outputId);\n",
              "  outputElement.innerHTML = '';\n",
              "\n",
              "  const pickedPromise = new Promise((resolve) => {\n",
              "    inputElement.addEventListener('change', (e) => {\n",
              "      resolve(e.target.files);\n",
              "    });\n",
              "  });\n",
              "\n",
              "  const cancel = document.createElement('button');\n",
              "  inputElement.parentElement.appendChild(cancel);\n",
              "  cancel.textContent = 'Cancel upload';\n",
              "  const cancelPromise = new Promise((resolve) => {\n",
              "    cancel.onclick = () => {\n",
              "      resolve(null);\n",
              "    };\n",
              "  });\n",
              "\n",
              "  // Wait for the user to pick the files.\n",
              "  const files = yield {\n",
              "    promise: Promise.race([pickedPromise, cancelPromise]),\n",
              "    response: {\n",
              "      action: 'starting',\n",
              "    }\n",
              "  };\n",
              "\n",
              "  cancel.remove();\n",
              "\n",
              "  // Disable the input element since further picks are not allowed.\n",
              "  inputElement.disabled = true;\n",
              "\n",
              "  if (!files) {\n",
              "    return {\n",
              "      response: {\n",
              "        action: 'complete',\n",
              "      }\n",
              "    };\n",
              "  }\n",
              "\n",
              "  for (const file of files) {\n",
              "    const li = document.createElement('li');\n",
              "    li.append(span(file.name, {fontWeight: 'bold'}));\n",
              "    li.append(span(\n",
              "        `(${file.type || 'n/a'}) - ${file.size} bytes, ` +\n",
              "        `last modified: ${\n",
              "            file.lastModifiedDate ? file.lastModifiedDate.toLocaleDateString() :\n",
              "                                    'n/a'} - `));\n",
              "    const percent = span('0% done');\n",
              "    li.appendChild(percent);\n",
              "\n",
              "    outputElement.appendChild(li);\n",
              "\n",
              "    const fileDataPromise = new Promise((resolve) => {\n",
              "      const reader = new FileReader();\n",
              "      reader.onload = (e) => {\n",
              "        resolve(e.target.result);\n",
              "      };\n",
              "      reader.readAsArrayBuffer(file);\n",
              "    });\n",
              "    // Wait for the data to be ready.\n",
              "    let fileData = yield {\n",
              "      promise: fileDataPromise,\n",
              "      response: {\n",
              "        action: 'continue',\n",
              "      }\n",
              "    };\n",
              "\n",
              "    // Use a chunked sending to avoid message size limits. See b/62115660.\n",
              "    let position = 0;\n",
              "    do {\n",
              "      const length = Math.min(fileData.byteLength - position, MAX_PAYLOAD_SIZE);\n",
              "      const chunk = new Uint8Array(fileData, position, length);\n",
              "      position += length;\n",
              "\n",
              "      const base64 = btoa(String.fromCharCode.apply(null, chunk));\n",
              "      yield {\n",
              "        response: {\n",
              "          action: 'append',\n",
              "          file: file.name,\n",
              "          data: base64,\n",
              "        },\n",
              "      };\n",
              "\n",
              "      let percentDone = fileData.byteLength === 0 ?\n",
              "          100 :\n",
              "          Math.round((position / fileData.byteLength) * 100);\n",
              "      percent.textContent = `${percentDone}% done`;\n",
              "\n",
              "    } while (position < fileData.byteLength);\n",
              "  }\n",
              "\n",
              "  // All done.\n",
              "  yield {\n",
              "    response: {\n",
              "      action: 'complete',\n",
              "    }\n",
              "  };\n",
              "}\n",
              "\n",
              "scope.google = scope.google || {};\n",
              "scope.google.colab = scope.google.colab || {};\n",
              "scope.google.colab._files = {\n",
              "  _uploadFiles,\n",
              "  _uploadFilesContinue,\n",
              "};\n",
              "})(self);\n",
              "</script> "
            ],
            "text/plain": [
              "<IPython.core.display.HTML object>"
            ]
          },
          "metadata": {},
          "output_type": "display_data"
        }
      ]
    },
    {
      "cell_type": "markdown",
      "metadata": {
        "id": "0-06yHfNtXhh"
      },
      "source": [
        "###Then the usual comoving-distance function."
      ]
    },
    {
      "cell_type": "code",
      "metadata": {
        "id": "HgpkbNgmtXhh"
      },
      "source": [
        "def dist_integrand(z, Om, Ok, w):\n",
        "    Ol = 1 - Om - Ok\n",
        "    return 1.0/np.sqrt(Om*(1+z)**3 + Ol*(1+z)**(3*(1+w)) + Ok*(1+z)**2)\n",
        "\n",
        "SMALL = 1.0e-5  # some small number, doesn't matter what\n",
        "\n",
        "# this is really H0 r(z)!\n",
        "def rz(z, Om, Ok, w):\n",
        "    chi = quad(dist_integrand, 0, z, args=(Om, Ok, w))[0]\n",
        "    if (Ok > SMALL):\n",
        "        return np.sinh(np.sqrt(Ok)*chi) / np.sqrt(Ok) # open\n",
        "    elif (Ok < -SMALL):\n",
        "        return np.sin(np.sqrt(-Ok)*chi) / np.sqrt(-Ok) # closed\n",
        "    else:\n",
        "        return chi"
      ],
      "execution_count": null,
      "outputs": []
    },
    {
      "cell_type": "markdown",
      "metadata": {
        "id": "m0txjXHitXhi"
      },
      "source": [
        "Remember the equation that relates the observed apparent magnitude $m$ and the cosmological parameters is\n",
        "\n",
        "$m(z) = 5\\log_{10} (H_0 d_L(z)) + \\mathcal{M}$\n",
        "\n",
        "Code up the expression for $H_0 d_L(z, \\Omega_M, \\Omega_\\Lambda)$, and then also $m(z, \\Omega_M, \\Omega_\\Lambda)$.\n",
        "\n",
        "\n"
      ]
    },
    {
      "cell_type": "code",
      "metadata": {
        "id": "yks5TcdsU4ux"
      },
      "source": [
        "def H0_dL(z, Om, Ol):\n",
        "  Ok = 1-Om-Ol # FILL IN HERE\n",
        "  w = -1.0  # hardcoded; won't change in this exercise\n",
        "  return (1+z)*rz(z, Om, Ok, w) # FILL IN HERE  # remember our rz is actually H0*r\n",
        "\n",
        "def m_theory(z, Om, Ol, scriptM):\n",
        "  return 5*np.log10(H0_dL(z, Om, Ol)) + scriptM"
      ],
      "execution_count": null,
      "outputs": []
    },
    {
      "cell_type": "markdown",
      "metadata": {
        "id": "LETBlteOVRLl"
      },
      "source": [
        "### Now load up the *binned* SNIa data and its covariance"
      ]
    },
    {
      "cell_type": "code",
      "metadata": {
        "id": "d7M9jP-oV-Zy"
      },
      "source": [
        "from google.colab import files\n",
        "uploaded = files.upload()\n",
        "\n",
        "# alternative way; didn't smoothly work for me\n",
        "#from google.colab import drive\n",
        "#drive.mount('/content/gdrive', force_remount=True)\n",
        "\n",
        "z_obs, m_obs = np.loadtxt(\"sn_data.txt\").T\n",
        "C = np.loadtxt(\"sn_cov.txt\")\n",
        "\n",
        "print('dimensions of data and Cov are', z_obs.shape, C.shape)\n",
        "\n",
        "# we will need C^{-1} so take care of that right away\n",
        "invC = np.linalg.inv(C)"
      ],
      "execution_count": null,
      "outputs": []
    },
    {
      "cell_type": "markdown",
      "metadata": {
        "id": "gO0iAZs8Y3WE"
      },
      "source": [
        "#### Now plot the data along with (diagonal) error bars, and overplot with some model that we think is probably a good fit, such as $\\Omega_M=1-\\Omega_\\Lambda=0.3$, $\\mathcal{M}=23.8$.  "
      ]
    },
    {
      "cell_type": "code",
      "metadata": {
        "id": "w8LXptPPkkA-"
      },
      "source": [
        "plt.errorbar(z_obs, m_obs, yerr=np.sqrt(np.diagonal(C)), marker='.', ls='')\n",
        "\n",
        "mth_array = [m_theory(z, 0.3, 0.7, 23.8) for z in z_obs]\n",
        "\n",
        "plt.plot(z_obs, mth_array)\n"
      ],
      "execution_count": null,
      "outputs": []
    },
    {
      "cell_type": "markdown",
      "metadata": {
        "id": "GJGbo31AknTB"
      },
      "source": [
        "###Is this model a good fit? How do you know?\n",
        "\n",
        "\n",
        "Note that matrix multiplication in Python 3 is done with a '@', and you don't even need to worry about the transpose!"
      ]
    },
    {
      "cell_type": "code",
      "metadata": {
        "id": "EqlHtNqvY3yF"
      },
      "source": [
        "\n",
        "chisq = (m_obs - mth_array) @ invC @ (m_obs - mth_array)\n",
        "print(chisq)"
      ],
      "execution_count": null,
      "outputs": []
    },
    {
      "cell_type": "markdown",
      "metadata": {
        "id": "_YsB-ydklWrh"
      },
      "source": [
        "Now define a log-likelihood function (of the data, w.r.t. theory). Assume the likelihoood itself is Gaussian (remember, the Central Limit Theorem works in that favor):\n",
        "\n",
        "$L = \\displaystyle\\frac{1}{2\\pi |\\det{C}|^{1/2}}\\exp \\left (-\\frac{1}{2} (m-m^{\\rm th})^T C^{-1} (m-m^{\\rm th})\\right )$\n",
        "\n"
      ]
    },
    {
      "cell_type": "code",
      "metadata": {
        "id": "hA6ODAWStXhi"
      },
      "source": [
        "# log (natural) likelihood given cosmo parameter vector p\n",
        "def loglike(p):\n",
        "    Om, Ol, scriptM = p\n",
        "    if Om < 0:\n",
        "        return -np.inf\n",
        "    mth_array = [m_theory(z, Om, Ol, scriptM) for z in z_obs]\n",
        "    d = m_obs - mth_array\n",
        "    lnL = -0.5 * d @ invC @ d # can ignore C because it doesn't depend on p\n",
        "    return lnL"
      ],
      "execution_count": null,
      "outputs": []
    },
    {
      "cell_type": "markdown",
      "metadata": {
        "id": "QZ9RhLw4tXhi"
      },
      "source": [
        "##Sampling\n",
        "\n",
        "####Because we only have 3 cosmological parameters, our analysis could conceivably be done on a grid. However, most datasets in cosmology depend on more parameters, especially once you take into account any \"nuisance\" parametters (here, $\\mathcal{M}$ is the only nuisance param)\n",
        "\n",
        "####We will use the Metropolis-Hastings algorithm that we described in the lectures to explore this parameter space instead, to make it take a manageable time.\n",
        "\n",
        "####We will first need a proposal function, which should returns a random jump from a current position in parameter space to one that is nearby.\n",
        "\n",
        "###Write a proposal that adds a small Gaussian-distributed jump from the current point `p` in each direction, and returns the new point.  Since the parameters are all different they need different sized jumps. They should be ballpark size of (estimated final) errors in the corresponding parameters.\n",
        "\n",
        "\n",
        "\n",
        "step in $\\Omega_m: 0.01$\n",
        "\n",
        "step in $\\Omega_\\Lambda: 0.01$\n",
        "\n",
        "step in $\\mathcal{M}: 0.025$"
      ]
    },
    {
      "cell_type": "code",
      "metadata": {
        "id": "yiORzzJdpri5"
      },
      "source": [
        "#proposal function (for making a step in parameter space)\n",
        "def propose(p):\n",
        "    return p + np.random.normal(size=p.size) * np.array([0.01, 0.01, 0.025])"
      ],
      "execution_count": null,
      "outputs": []
    },
    {
      "cell_type": "markdown",
      "metadata": {
        "id": "7cwnbwT3prXc"
      },
      "source": [
        "Now we will write a Metropolis-Hastings MCMC sampling process.\n",
        "\n",
        "Write a code to perform the MH loop that we described in lectures, with these features:\n",
        "- record the value of the new parameter set each time through the loop.\n",
        "- record the likelihood each iteration.\n",
        "- start from the point `[0.3, 0.7, 23.8]` (where you start doesn't matter too much)\n",
        "- count the number of time the proposal is accepted.  If everything is working, about 25% (**very** roughly) of the jumps should be accepted in this case.\n",
        "- run first for a few steps just to make sure things work, then for something like 10,000 steps, then at the very end for $N=100,000$ steps\n",
        "\n",
        "Running this will take a few minutes - you might want to print something out every 1000 samples to give you an idea of progress. First start with very few steps just too make sure it works.\n"
      ]
    },
    {
      "cell_type": "code",
      "metadata": {
        "id": "u1tWnVcIqvxp"
      },
      "source": [
        "# First make an array describing the starting point of the iteration\n",
        "p = np.array([0.3, 0.7, 23.8])\n",
        "Lp = loglike(p)\n",
        "\n",
        "# number of steps, plus define couple of arrays\n",
        "N = 5000   # number of total attempts to walk\n",
        "chain = np.zeros((N, 3))\n",
        "likes = np.zeros(N)\n",
        "\n",
        "# start the array of weights; make it 1 element long and append below\n",
        "weights = [0]\n",
        "param_corresp_weight= np.array([[0, 0, 0]])  # just initializing, had to declare first dummy one\n",
        "\n",
        "##################\n",
        "# Main MCMC loop\n",
        "##################\n",
        "acc=0\n",
        "for i in range(N):\n",
        "    if i%1000 == 0:  # print every 1000th step or something\n",
        "        print(i)\n",
        "    # new possible point and its likelihood\n",
        "    q = propose(p)\n",
        "    Lq = loglike(q)\n",
        "    ##################################\n",
        "    # Metropolis acceptance criterion\n",
        "    ### if accepted:\n",
        "    ##################################\n",
        "    if (Lq > Lp) or Lq - Lp > np.log(np.random.uniform()):\n",
        "        p = q\n",
        "        Lp = Lq\n",
        "        # count accepts\n",
        "        acc += 1\n",
        "        ##################################\n",
        "        ### computing the \"weight\"\n",
        "        ##################################\n",
        "        # add (append) weight array element for new model and set it to one\n",
        "        weights.append(1)\n",
        "        # and write corresponding parameter values\n",
        "        param_corresp_weight = np.vstack([param_corresp_weight, p])\n",
        "    ##################################\n",
        "    ### if rejected:\n",
        "    ##################################\n",
        "    else: # if rejected, increase weight by one\n",
        "      index = len(weights)-1\n",
        "      weights[index] += 1\n",
        "\n",
        "    # store next point, whether it's the same or not\n",
        "    chain[i] = p\n",
        "    # store the log likelihood\n",
        "    likes[i] = Lp\n",
        "\n",
        "# Done. Print acceptance fraction\n",
        "print('Acceptance rate is', acc/N)\n"
      ],
      "execution_count": null,
      "outputs": []
    },
    {
      "cell_type": "markdown",
      "metadata": {
        "id": "o-0dNXLmu4lK"
      },
      "source": [
        "Plot the value of each parameter throughout the chain.  Comment on the performance of the proposal.\n",
        "\n",
        "I told you ahead of time what good step sizes in parameters will be. After you run this plot, go back to the propsal above, increase (or decrease) one of the steps by factor of 10, and rerun. How does the acceptance rate change, and how do plots below now look?"
      ]
    },
    {
      "cell_type": "code",
      "metadata": {
        "id": "vcEf88XCu5FR"
      },
      "source": [
        "# write your code here\n",
        "for i in range(3):\n",
        "    plt.figure(figsize=(4,3))\n",
        "    plt.plot(chain[:,i])"
      ],
      "execution_count": null,
      "outputs": []
    },
    {
      "cell_type": "markdown",
      "metadata": {
        "id": "_DyOHsBsxDJl"
      },
      "source": [
        "####Make a scatter plot of omega_matter versus omega_lambda for the full chain.Use the likelihood value as the color of each point, and size=1 for each."
      ]
    },
    {
      "cell_type": "code",
      "metadata": {
        "id": "GKaCPJqJ_SZ8"
      },
      "source": [
        "plt.scatter(chain[:,1], chain[:,2], s=1, c=likes[:])\n",
        "plt.colorbar()\n",
        "plt.xlabel(\"$\\Omega_m$\")\n",
        "plt.ylabel(\"$\\Omega_\\Lambda$\")"
      ],
      "execution_count": null,
      "outputs": []
    },
    {
      "cell_type": "markdown",
      "metadata": {
        "id": "HXQ4vst17C2R"
      },
      "source": [
        "#### But that's actually not what you want - remember, you want to do analyze weights (how many attempts were rejected before accecptance for a given model)."
      ]
    },
    {
      "cell_type": "code",
      "metadata": {
        "id": "mYzK6pWOMkH1"
      },
      "source": [
        "\n",
        "plt.scatter(param_corresp_weight[:,0], param_corresp_weight[:,1], s=1, c=weights[:])\n",
        "plt.colorbar()\n",
        "plt.xlabel(\"$\\Omega_m$\")\n",
        "plt.ylabel(\"$\\Omega_\\Lambda$\")"
      ],
      "execution_count": null,
      "outputs": []
    },
    {
      "cell_type": "markdown",
      "metadata": {
        "id": "YU94Vd2Z7VLN"
      },
      "source": [
        "#### But that's actually not what you want either - you want to find 68\\%, 96% etc percentiles of the weights - that is, sum up the weights from highest and go down until you hit 68% etc of the total sum.\n",
        "\n",
        "##(To be continued)"
      ]
    }
  ]
}