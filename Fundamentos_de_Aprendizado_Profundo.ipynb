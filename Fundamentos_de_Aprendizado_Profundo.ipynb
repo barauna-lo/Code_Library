{
  "nbformat": 4,
  "nbformat_minor": 0,
  "metadata": {
    "colab": {
      "provenance": [],
      "include_colab_link": true
    },
    "kernelspec": {
      "name": "python3",
      "display_name": "Python 3"
    },
    "language_info": {
      "name": "python"
    }
  },
  "cells": [
    {
      "cell_type": "markdown",
      "metadata": {
        "id": "view-in-github",
        "colab_type": "text"
      },
      "source": [
        "<a href=\"https://colab.research.google.com/github/barauna-lo/Code_Library/blob/main/Fundamentos_de_Aprendizado_Profundo.ipynb\" target=\"_parent\"><img src=\"https://colab.research.google.com/assets/colab-badge.svg\" alt=\"Open In Colab\"/></a>"
      ]
    },
    {
      "cell_type": "markdown",
      "source": [
        "\n",
        "# Fundamentos de Aprendizado Profundo\n",
        "Com Exemplos em Pytorch\n",
        "\n",
        "--------------------------------------------------------------------------------\n",
        "\n",
        "autor: Wedeueis Braz email: wedeueisbraz@gmail.com\n",
        "\n",
        "\n",
        "Nota\n",
        "\n",
        "Esse material foi criado como parte do curso de Deep Learning & PyTorch do HackerSpace com fim apenas didático. Não existe garantia da aplicação, nem será dado suporte, para outros fins.\n"
      ],
      "metadata": {
        "id": "RMkD67TQ-jRw"
      }
    },
    {
      "cell_type": "markdown",
      "source": [],
      "metadata": {
        "id": "g_HOI09H-0Jv"
      }
    },
    {
      "cell_type": "code",
      "execution_count": 27,
      "metadata": {
        "id": "sZTHLz2U-iPn"
      },
      "outputs": [],
      "source": [
        "import torch\n",
        "import numpy as np"
      ]
    },
    {
      "cell_type": "markdown",
      "source": [
        "A estrutura fundamental do Pytorch é o **Tensor**.\n",
        "\n",
        "Um Tensor é essencialmente um Array, ou seja um estrutura de dados multidimensional organizada como uma grade usada para armazenar os dados e parâmetros dos modelos."
      ],
      "metadata": {
        "id": "cyYqi0uhAifc"
      }
    },
    {
      "cell_type": "code",
      "source": [
        "# Criando tensores\n",
        "\n",
        "# a partir de listas\n",
        "array = [[1, 2, 3], [4, 5, 6]]\n",
        "tensor = torch.tensor(array)\n",
        "print(tensor)\n",
        "\n",
        "# a partir de nunmpy arrays\n",
        "np_array = np.array(array)\n",
        "tensor2 = torch.tensor(np_array)\n",
        "print(tensor2)\n"
      ],
      "metadata": {
        "colab": {
          "base_uri": "https://localhost:8080/"
        },
        "id": "aKHQhqqhAYZ0",
        "outputId": "5f8f0795-07ad-4abb-c963-6402cae54434"
      },
      "execution_count": 28,
      "outputs": [
        {
          "output_type": "stream",
          "name": "stdout",
          "text": [
            "tensor([[1, 2, 3],\n",
            "        [4, 5, 6]])\n",
            "tensor([[1, 2, 3],\n",
            "        [4, 5, 6]])\n"
          ]
        }
      ]
    },
    {
      "cell_type": "code",
      "source": [
        "# atributos\n",
        "\n",
        "# dimensões do tensor\n",
        "print(tensor.shape)\n",
        "\n",
        "# tipo do dado armazenado\n",
        "print(tensor.dtype)\n",
        "\n",
        "# onde o tensor esta armazendao\n",
        "print(tensor.device)"
      ],
      "metadata": {
        "colab": {
          "base_uri": "https://localhost:8080/"
        },
        "id": "zyezx5pKB8RD",
        "outputId": "db9a7ffd-df5d-4135-e10b-6f3b9985c8a4"
      },
      "execution_count": 29,
      "outputs": [
        {
          "output_type": "stream",
          "name": "stdout",
          "text": [
            "torch.Size([2, 3])\n",
            "torch.int64\n",
            "cpu\n"
          ]
        }
      ]
    },
    {
      "cell_type": "code",
      "source": [
        "# Operações\n",
        "\n",
        "print( \"Original: \", tensor )\n",
        "\n",
        "# Adição (as dimensões devem ser compatíveis)\n",
        "\n",
        "print( \"soma: \", tensor + tensor)\n",
        "\n",
        "# Multiplicação elmento a elemento\n",
        "print( \"multiplicação elemento a elemento: \", tensor * tensor)\n",
        "\n",
        "# Transposição matricial (tensor com 2 dimensoes)\n",
        "print(\"Tranposta: \", tensor.T)\n",
        "\n",
        "# Multiplicação matricial\n",
        "print( \"Multiplicação Matricial: \", tensor @ tensor.T)"
      ],
      "metadata": {
        "colab": {
          "base_uri": "https://localhost:8080/"
        },
        "id": "0rsWSW0DCp1c",
        "outputId": "8837b267-2707-41c8-8cfe-dcdfd37358e5"
      },
      "execution_count": 30,
      "outputs": [
        {
          "output_type": "stream",
          "name": "stdout",
          "text": [
            "Original:  tensor([[1, 2, 3],\n",
            "        [4, 5, 6]])\n",
            "soma:  tensor([[ 2,  4,  6],\n",
            "        [ 8, 10, 12]])\n",
            "multiplicação elemento a elemento:  tensor([[ 1,  4,  9],\n",
            "        [16, 25, 36]])\n",
            "Tranposta:  tensor([[1, 4],\n",
            "        [2, 5],\n",
            "        [3, 6]])\n",
            "Multiplicação Matricial:  tensor([[14, 32],\n",
            "        [32, 77]])\n"
          ]
        }
      ]
    },
    {
      "cell_type": "markdown",
      "source": [
        "## Criando Redes Neurais"
      ],
      "metadata": {
        "id": "CDBaatAwDyCb"
      }
    },
    {
      "cell_type": "code",
      "source": [
        "import torch.nn as nn"
      ],
      "metadata": {
        "id": "QgUp57y9DNb8"
      },
      "execution_count": 31,
      "outputs": []
    },
    {
      "cell_type": "code",
      "source": [
        "# Exemplo de tensor com 3 features\n",
        "\n",
        "input_tensor = torch.tensor([\n",
        "    [0.3471, 0.4547, -0.2356]\n",
        "])\n",
        "\n",
        "print(input_tensor)"
      ],
      "metadata": {
        "colab": {
          "base_uri": "https://localhost:8080/"
        },
        "id": "kmu0OPwNFtrL",
        "outputId": "98f31ef4-432c-48d6-82bf-00a4b98815be"
      },
      "execution_count": 32,
      "outputs": [
        {
          "output_type": "stream",
          "name": "stdout",
          "text": [
            "tensor([[ 0.3471,  0.4547, -0.2356]])\n"
          ]
        }
      ]
    },
    {
      "cell_type": "code",
      "source": [
        "# Definindo uma camada Linear\n",
        "\n",
        "linear_layer = nn.Linear(in_features = 3, out_features = 2)"
      ],
      "metadata": {
        "id": "b8H4ftSBGDwc"
      },
      "execution_count": 33,
      "outputs": []
    },
    {
      "cell_type": "code",
      "source": [
        "## Passando o input através da camada linear\n",
        "\n",
        "output = linear_layer(input_tensor)\n",
        "print(output)"
      ],
      "metadata": {
        "colab": {
          "base_uri": "https://localhost:8080/"
        },
        "id": "9aeNPOJ6GWB0",
        "outputId": "5a287596-447b-47de-93fa-b48fae4bf0da"
      },
      "execution_count": 34,
      "outputs": [
        {
          "output_type": "stream",
          "name": "stdout",
          "text": [
            "tensor([[ 0.4814, -0.5774]], grad_fn=<AddmmBackward0>)\n"
          ]
        }
      ]
    },
    {
      "cell_type": "code",
      "source": [
        "## Atributos da camada Linear\n",
        "print(linear_layer.weight)\n",
        "\n",
        "print(linear_layer.bias)\n"
      ],
      "metadata": {
        "colab": {
          "base_uri": "https://localhost:8080/"
        },
        "id": "F7kiA7TuGzR9",
        "outputId": "76852acf-7d28-4659-e800-ec356ae6a685"
      },
      "execution_count": 35,
      "outputs": [
        {
          "output_type": "stream",
          "name": "stdout",
          "text": [
            "Parameter containing:\n",
            "tensor([[-0.2212,  0.5600, -0.3934],\n",
            "        [ 0.2884, -0.5700, -0.5575]], requires_grad=True)\n",
            "Parameter containing:\n",
            "tensor([ 0.2108, -0.5496], requires_grad=True)\n"
          ]
        }
      ]
    },
    {
      "cell_type": "code",
      "source": [
        "# Criando um modelo de multiplas camadas sequenciais\n",
        "\n",
        "model = nn.Sequential(\n",
        "    nn.Linear(10, 18),\n",
        "    nn.Linear(18, 20),\n",
        "    nn.Linear(20, 5)\n",
        ")"
      ],
      "metadata": {
        "id": "Fq0WEnKtHMi0"
      },
      "execution_count": 36,
      "outputs": []
    },
    {
      "cell_type": "code",
      "source": [
        "input_tensor = torch.rand(1, 10)\n",
        "\n",
        "output_tensor = model(input_tensor)\n",
        "print(output_tensor)"
      ],
      "metadata": {
        "colab": {
          "base_uri": "https://localhost:8080/"
        },
        "id": "CB-koN4MJClW",
        "outputId": "c7dca007-ccf9-4e41-a018-79d5aa3f8f30"
      },
      "execution_count": 37,
      "outputs": [
        {
          "output_type": "stream",
          "name": "stdout",
          "text": [
            "tensor([[-0.1474,  0.3126,  0.2671,  0.1331, -0.0292]],\n",
            "       grad_fn=<AddmmBackward0>)\n"
          ]
        }
      ]
    },
    {
      "cell_type": "code",
      "source": [
        "# Funções de Ativação\n",
        "\n",
        "input_tensor = torch.tensor([[6.0]])\n",
        "sigmoid = nn.Sigmoid()\n",
        "output = sigmoid(input_tensor)\n",
        "print(output)"
      ],
      "metadata": {
        "colab": {
          "base_uri": "https://localhost:8080/"
        },
        "id": "5oYoGGaMJkMt",
        "outputId": "8181c7ae-1ad1-45f2-b2bc-7874705fdf1e"
      },
      "execution_count": 38,
      "outputs": [
        {
          "output_type": "stream",
          "name": "stdout",
          "text": [
            "tensor([[0.9975]])\n"
          ]
        }
      ]
    },
    {
      "cell_type": "code",
      "source": [
        "# Exemplo de modelo de classificação Binária\n",
        "\n",
        "model = nn.Sequential(\n",
        "    nn.Linear(10, 4),\n",
        "    nn.Linear(4, 1),\n",
        "    nn.Sigmoid()\n",
        ")\n",
        "\n",
        "input_tensor = torch.rand(1, 10)\n",
        "print(model(input_tensor))"
      ],
      "metadata": {
        "colab": {
          "base_uri": "https://localhost:8080/"
        },
        "id": "GuCfUN8PNB2t",
        "outputId": "ed8455f7-f684-400b-895c-ab9bceeceb4f"
      },
      "execution_count": 39,
      "outputs": [
        {
          "output_type": "stream",
          "name": "stdout",
          "text": [
            "tensor([[0.5812]], grad_fn=<SigmoidBackward0>)\n"
          ]
        }
      ]
    },
    {
      "cell_type": "code",
      "source": [
        "# Exemplo de modelo de classificação Multiclasse\n",
        "model = nn.Sequential(\n",
        "    nn.Linear(3, 4),\n",
        "    nn.Linear(4, 3),\n",
        "    nn.Softmax(dim=-1)\n",
        ")\n",
        "\n",
        "input_tensor = torch.rand(1, 3)\n",
        "print(model(input_tensor))"
      ],
      "metadata": {
        "colab": {
          "base_uri": "https://localhost:8080/"
        },
        "id": "sldOaVA8Ndve",
        "outputId": "dfbb27db-ae90-48ac-a865-013ff1908f86"
      },
      "execution_count": 40,
      "outputs": [
        {
          "output_type": "stream",
          "name": "stdout",
          "text": [
            "tensor([[0.2197, 0.3665, 0.4138]], grad_fn=<SoftmaxBackward0>)\n"
          ]
        }
      ]
    },
    {
      "cell_type": "markdown",
      "source": [
        "## Treinando Redes Neurais"
      ],
      "metadata": {
        "id": "W5ahDFXXOibX"
      }
    },
    {
      "cell_type": "code",
      "source": [
        "input_data = torch.rand(5, 6)\n",
        "print(input_data)\n",
        "\n",
        "# Modelo de Classificação Binaria\n",
        "\n",
        "model = nn.Sequential(\n",
        "    nn.Linear(6, 4),\n",
        "    nn.Linear(4, 1),\n",
        "    nn.Sigmoid()\n",
        ")\n",
        "\n",
        "output = model(input_data)\n",
        "print(output)\n",
        "\n",
        "# Modelo de Classificação Multiclasse\n",
        "n_classes = 3\n",
        "\n",
        "model = nn.Sequential(\n",
        "    nn.Linear(6, 4),\n",
        "    nn.Linear(4, n_classes),\n",
        "    nn.Softmax(dim=-1)\n",
        ")\n",
        "\n",
        "output = model(input_data)\n",
        "print(output)\n",
        "\n",
        "# Modelo de Regressão\n",
        "\n",
        "model = nn.Sequential(\n",
        "    nn.Linear(6, 4),\n",
        "    nn.Linear(4, 1),\n",
        ")\n",
        "\n",
        "output = model(input_data)\n",
        "print(output)"
      ],
      "metadata": {
        "colab": {
          "base_uri": "https://localhost:8080/"
        },
        "id": "uciE39RxOBqv",
        "outputId": "da98e997-ef6c-4ecb-f768-c29869eb9f0b"
      },
      "execution_count": 41,
      "outputs": [
        {
          "output_type": "stream",
          "name": "stdout",
          "text": [
            "tensor([[0.9435, 0.6842, 0.0835, 0.7044, 0.1781, 0.2843],\n",
            "        [0.6382, 0.4982, 0.1078, 0.9534, 0.4683, 0.0052],\n",
            "        [0.3997, 0.3546, 0.8323, 0.5318, 0.6789, 0.3151],\n",
            "        [0.4092, 0.3295, 0.7200, 0.7754, 0.9768, 0.5518],\n",
            "        [0.7744, 0.8159, 0.1174, 0.0022, 0.1072, 0.3574]])\n",
            "tensor([[0.4705],\n",
            "        [0.4538],\n",
            "        [0.4010],\n",
            "        [0.4154],\n",
            "        [0.4602]], grad_fn=<SigmoidBackward0>)\n",
            "tensor([[0.2330, 0.3230, 0.4440],\n",
            "        [0.2278, 0.3133, 0.4589],\n",
            "        [0.1643, 0.3335, 0.5022],\n",
            "        [0.1560, 0.3336, 0.5104],\n",
            "        [0.2419, 0.3211, 0.4371]], grad_fn=<SoftmaxBackward0>)\n",
            "tensor([[-0.0370],\n",
            "        [-0.0684],\n",
            "        [ 0.0396],\n",
            "        [-0.0947],\n",
            "        [ 0.0521]], grad_fn=<AddmmBackward0>)\n"
          ]
        }
      ]
    },
    {
      "cell_type": "code",
      "source": [
        "# One Hot Encoding\n",
        "\n",
        "import torch.nn.functional as F\n",
        "\n",
        "F.one_hot(torch.tensor(0), num_classes=3)"
      ],
      "metadata": {
        "colab": {
          "base_uri": "https://localhost:8080/"
        },
        "id": "J7OsOwaYPQ5n",
        "outputId": "64ccc24c-8ca1-4782-d92b-07274c132d7f"
      },
      "execution_count": 42,
      "outputs": [
        {
          "output_type": "execute_result",
          "data": {
            "text/plain": [
              "tensor([1, 0, 0])"
            ]
          },
          "metadata": {},
          "execution_count": 42
        }
      ]
    },
    {
      "cell_type": "code",
      "source": [
        "# Loss Function para Classificação\n",
        "\n",
        "from torch.nn import CrossEntropyLoss\n",
        "\n",
        "input_data = torch.rand(1, 6)\n",
        "one_hot_target = torch.tensor([[1, 0]])\n",
        "\n",
        "model = nn.Sequential(\n",
        "    nn.Linear(6, 8),\n",
        "    nn.Linear(8, 4),\n",
        "    nn.Linear(4, 2)\n",
        ")\n",
        "\n",
        "scores = model(input_data)\n",
        "\n",
        "criterion = CrossEntropyLoss()\n",
        "loss = criterion(scores.double(), one_hot_target.double())\n",
        "\n",
        "loss.backward()"
      ],
      "metadata": {
        "id": "r-FGG6k8Ro9A"
      },
      "execution_count": 43,
      "outputs": []
    },
    {
      "cell_type": "code",
      "source": [
        "# Gradientes calculados\n",
        "model[0].weight.grad"
      ],
      "metadata": {
        "colab": {
          "base_uri": "https://localhost:8080/"
        },
        "id": "CEKk2RWfScO4",
        "outputId": "15876ae2-fbbd-4e32-8d80-f0ebb6c92a4f"
      },
      "execution_count": 44,
      "outputs": [
        {
          "output_type": "execute_result",
          "data": {
            "text/plain": [
              "tensor([[-0.0220, -0.0077, -0.0089, -0.0223, -0.0190, -0.0042],\n",
              "        [ 0.1489,  0.0521,  0.0604,  0.1512,  0.1288,  0.0281],\n",
              "        [ 0.0570,  0.0199,  0.0231,  0.0579,  0.0493,  0.0108],\n",
              "        [ 0.0708,  0.0248,  0.0287,  0.0720,  0.0613,  0.0134],\n",
              "        [-0.0142, -0.0050, -0.0058, -0.0144, -0.0123, -0.0027],\n",
              "        [-0.1206, -0.0422, -0.0489, -0.1225, -0.1044, -0.0228],\n",
              "        [ 0.0301,  0.0105,  0.0122,  0.0306,  0.0260,  0.0057],\n",
              "        [ 0.0688,  0.0241,  0.0279,  0.0699,  0.0595,  0.0130]])"
            ]
          },
          "metadata": {},
          "execution_count": 44
        }
      ]
    },
    {
      "cell_type": "code",
      "source": [
        "# Atualizando os pesos manualmente\n",
        "# Taxa de aprendizado\n",
        "lr = 0.001\n",
        "\n",
        "# Atualização de pesos\n",
        "weight = model[0].weight\n",
        "weight_grad = model[0].weight.grad\n",
        "weight = weight - lr * weight_grad\n",
        "\n",
        "# Atualizando o Bias\n",
        "bias = model[0].bias\n",
        "bias_grad = model[0].bias.grad\n",
        "bias = bias - lr * bias_grad"
      ],
      "metadata": {
        "id": "TrjAYVBLU1io"
      },
      "execution_count": 45,
      "outputs": []
    },
    {
      "cell_type": "code",
      "source": [
        "# Atualizando os pesos automaticmaente com otimizadores\n",
        "\n",
        "import torch.optim as optim\n",
        "\n",
        "# Criar o otiimzador\n",
        "optimizer = optim.SGD(model.parameters(), lr=0.001)\n",
        "optimizer.step()"
      ],
      "metadata": {
        "id": "dk2N6NRuVrkx"
      },
      "execution_count": 46,
      "outputs": []
    },
    {
      "cell_type": "code",
      "source": [
        "from torch.utils.data import TensorDataset\n",
        "from torch.utils.data import DataLoader\n",
        "from torch.nn import MSELoss\n",
        "\n",
        "# Training Loop\n",
        "\n",
        "# Criar um modelo\n",
        "# Escolher uma Loss Function\n",
        "# Criar um dataset\n",
        "# Definir um otimizador\n",
        "# Gerar um \"Training Loop\"\n",
        "    # Calcular a loss (foward pass)\n",
        "    # Calcular os gradientes locais\n",
        "    # Atualizar parametros do modelo\n",
        "\n",
        "data = torch.tensor([\n",
        "    [0, 0, 0.5, 1, 0.036],\n",
        "    [1, 0, 1.0, 2, 0.133],\n",
        "    [2, 0, 0.0, 1, 0.234],\n",
        "    [1, 0, 1.0, 0, 0.076],\n",
        "    [2, 0, 1.0, 1, 0.170]\n",
        "  ]\n",
        ")\n",
        "\n",
        "features = data[:, :-1]\n",
        "target = data[:, -1:]\n",
        "\n",
        "dataset = TensorDataset(torch.tensor(features).float(), torch.tensor(target).float())\n",
        "dataloader = DataLoader(dataset, batch_size=4, shuffle=True)\n",
        "\n",
        "model =  nn.Sequential(\n",
        "    nn.Linear(4, 2),\n",
        "    nn.Linear(2, 1)\n",
        ")\n",
        "\n",
        "criterion = MSELoss()\n",
        "optimizer = optim.SGD(model.parameters(), lr = 0.001, momentum=0.9)\n",
        "\n",
        "# Training Loop\n",
        "num_epochs = 4\n",
        "\n",
        "for epoch in range(num_epochs):\n",
        "  for data in dataloader:\n",
        "    # Resetar os gradientes\n",
        "    optimizer.zero_grad()\n",
        "    # Pegue a feature e o target do dataloader\n",
        "    feature, target = data\n",
        "    # Realize o foward pass\n",
        "    pred = model(feature)\n",
        "    # Calcule a loss e gradientes\n",
        "    loss = criterion(pred, target)\n",
        "    loss.backward()\n",
        "    # Atualize os parametros\n",
        "    optimizer.step()\n",
        "\n"
      ],
      "metadata": {
        "colab": {
          "base_uri": "https://localhost:8080/"
        },
        "id": "jTHcw6SEWcDh",
        "outputId": "61e07e14-07cd-441a-8844-74644f8e77c2"
      },
      "execution_count": 47,
      "outputs": [
        {
          "output_type": "stream",
          "name": "stderr",
          "text": [
            "<ipython-input-47-94afd02f7ae1>:28: UserWarning: To copy construct from a tensor, it is recommended to use sourceTensor.clone().detach() or sourceTensor.clone().detach().requires_grad_(True), rather than torch.tensor(sourceTensor).\n",
            "  dataset = TensorDataset(torch.tensor(features).float(), torch.tensor(target).float())\n"
          ]
        }
      ]
    },
    {
      "cell_type": "markdown",
      "source": [
        "## Arquitetura e Hiperparametros"
      ],
      "metadata": {
        "id": "osmHguXNd78x"
      }
    },
    {
      "cell_type": "code",
      "source": [
        "# Calculando a Capacidade do modelo\n",
        "total = 0\n",
        "for parameter in model.parameters():\n",
        "  total += parameter.numel()\n",
        "\n",
        "print(total)"
      ],
      "metadata": {
        "colab": {
          "base_uri": "https://localhost:8080/"
        },
        "id": "Osi-0Zjwa7u8",
        "outputId": "50977897-e208-4d02-c0a2-4a7205ccd962"
      },
      "execution_count": 48,
      "outputs": [
        {
          "output_type": "stream",
          "name": "stdout",
          "text": [
            "13\n"
          ]
        }
      ]
    },
    {
      "cell_type": "code",
      "source": [
        "# Transfer Learning\n",
        "\n",
        "# Você pode salvar os pesos de modelo ou camada e depois carrega-los novamente, assim é possivel retreinar o modelo de onde parou\n",
        "# Você pode escolher também congelar algumas camadas e assim evitar que sejam atualizadas,\n",
        "# geralmente as camadas mais inferiores são congeladas em processos de tranferencia de aprendizado\n",
        "\n",
        "torch.save(model, \"path\")\n",
        "model = torch.load(\"path\")\n",
        "\n",
        "for name, param in model.named_parameters():\n",
        "  if name == '0.weight':\n",
        "    param.requires_grad = False"
      ],
      "metadata": {
        "id": "ARcquDhObDea"
      },
      "execution_count": 49,
      "outputs": []
    },
    {
      "cell_type": "markdown",
      "source": [
        "## Model Evaluation"
      ],
      "metadata": {
        "id": "I1kcudutt_ct"
      }
    },
    {
      "cell_type": "code",
      "source": [
        "import pandas as pd"
      ],
      "metadata": {
        "id": "94TrHsj4fgaU"
      },
      "execution_count": 50,
      "outputs": []
    },
    {
      "cell_type": "code",
      "source": [
        "data = pd.read_csv('/content/student_prediction.csv')"
      ],
      "metadata": {
        "id": "qJ-ciZEyrUHJ"
      },
      "execution_count": 51,
      "outputs": []
    },
    {
      "cell_type": "code",
      "source": [
        "data"
      ],
      "metadata": {
        "colab": {
          "base_uri": "https://localhost:8080/",
          "height": 461
        },
        "id": "-g1sBm5KrZhQ",
        "outputId": "47e974db-9164-42cd-9235-253187ca4688"
      },
      "execution_count": 52,
      "outputs": [
        {
          "output_type": "execute_result",
          "data": {
            "text/plain": [
              "      STUDENTID  AGE  GENDER  HS_TYPE  SCHOLARSHIP  WORK  ACTIVITY  PARTNER  \\\n",
              "0      STUDENT1    2       2        3            3     1         2        2   \n",
              "1      STUDENT2    2       2        3            3     1         2        2   \n",
              "2      STUDENT3    2       2        2            3     2         2        2   \n",
              "3      STUDENT4    1       1        1            3     1         2        1   \n",
              "4      STUDENT5    2       2        1            3     2         2        1   \n",
              "..          ...  ...     ...      ...          ...   ...       ...      ...   \n",
              "140  STUDENT141    2       1        2            3     1         1        2   \n",
              "141  STUDENT142    1       1        2            4     2         2        2   \n",
              "142  STUDENT143    1       1        1            4     2         2        2   \n",
              "143  STUDENT144    2       1        2            4     1         1        1   \n",
              "144  STUDENT145    1       1        1            5     2         2        2   \n",
              "\n",
              "     SALARY  TRANSPORT  ...  PREP_STUDY  PREP_EXAM  NOTES  LISTENS  \\\n",
              "0         1          1  ...           1          1      3        2   \n",
              "1         1          1  ...           1          1      3        2   \n",
              "2         2          4  ...           1          1      2        2   \n",
              "3         2          1  ...           1          2      3        2   \n",
              "4         3          1  ...           2          1      2        2   \n",
              "..      ...        ...  ...         ...        ...    ...      ...   \n",
              "140       1          1  ...           1          1      2        1   \n",
              "141       1          4  ...           1          1      3        2   \n",
              "142       1          1  ...           1          1      3        3   \n",
              "143       5          2  ...           2          1      2        1   \n",
              "144       3          1  ...           2          1      3        2   \n",
              "\n",
              "     LIKES_DISCUSS  CLASSROOM  CUML_GPA  EXP_GPA  COURSE ID  GRADE  \n",
              "0                1          2         1        1          1      1  \n",
              "1                3          2         2        3          1      1  \n",
              "2                1          1         2        2          1      1  \n",
              "3                2          1         3        2          1      1  \n",
              "4                2          1         2        2          1      1  \n",
              "..             ...        ...       ...      ...        ...    ...  \n",
              "140              2          1         3        3          9      5  \n",
              "141              2          1         5        3          9      5  \n",
              "142              2          1         4        3          9      1  \n",
              "143              2          1         5        3          9      4  \n",
              "144              3          1         5        4          9      3  \n",
              "\n",
              "[145 rows x 33 columns]"
            ],
            "text/html": [
              "\n",
              "  <div id=\"df-30576966-0ae1-4419-ba9d-10c81302233d\" class=\"colab-df-container\">\n",
              "    <div>\n",
              "<style scoped>\n",
              "    .dataframe tbody tr th:only-of-type {\n",
              "        vertical-align: middle;\n",
              "    }\n",
              "\n",
              "    .dataframe tbody tr th {\n",
              "        vertical-align: top;\n",
              "    }\n",
              "\n",
              "    .dataframe thead th {\n",
              "        text-align: right;\n",
              "    }\n",
              "</style>\n",
              "<table border=\"1\" class=\"dataframe\">\n",
              "  <thead>\n",
              "    <tr style=\"text-align: right;\">\n",
              "      <th></th>\n",
              "      <th>STUDENTID</th>\n",
              "      <th>AGE</th>\n",
              "      <th>GENDER</th>\n",
              "      <th>HS_TYPE</th>\n",
              "      <th>SCHOLARSHIP</th>\n",
              "      <th>WORK</th>\n",
              "      <th>ACTIVITY</th>\n",
              "      <th>PARTNER</th>\n",
              "      <th>SALARY</th>\n",
              "      <th>TRANSPORT</th>\n",
              "      <th>...</th>\n",
              "      <th>PREP_STUDY</th>\n",
              "      <th>PREP_EXAM</th>\n",
              "      <th>NOTES</th>\n",
              "      <th>LISTENS</th>\n",
              "      <th>LIKES_DISCUSS</th>\n",
              "      <th>CLASSROOM</th>\n",
              "      <th>CUML_GPA</th>\n",
              "      <th>EXP_GPA</th>\n",
              "      <th>COURSE ID</th>\n",
              "      <th>GRADE</th>\n",
              "    </tr>\n",
              "  </thead>\n",
              "  <tbody>\n",
              "    <tr>\n",
              "      <th>0</th>\n",
              "      <td>STUDENT1</td>\n",
              "      <td>2</td>\n",
              "      <td>2</td>\n",
              "      <td>3</td>\n",
              "      <td>3</td>\n",
              "      <td>1</td>\n",
              "      <td>2</td>\n",
              "      <td>2</td>\n",
              "      <td>1</td>\n",
              "      <td>1</td>\n",
              "      <td>...</td>\n",
              "      <td>1</td>\n",
              "      <td>1</td>\n",
              "      <td>3</td>\n",
              "      <td>2</td>\n",
              "      <td>1</td>\n",
              "      <td>2</td>\n",
              "      <td>1</td>\n",
              "      <td>1</td>\n",
              "      <td>1</td>\n",
              "      <td>1</td>\n",
              "    </tr>\n",
              "    <tr>\n",
              "      <th>1</th>\n",
              "      <td>STUDENT2</td>\n",
              "      <td>2</td>\n",
              "      <td>2</td>\n",
              "      <td>3</td>\n",
              "      <td>3</td>\n",
              "      <td>1</td>\n",
              "      <td>2</td>\n",
              "      <td>2</td>\n",
              "      <td>1</td>\n",
              "      <td>1</td>\n",
              "      <td>...</td>\n",
              "      <td>1</td>\n",
              "      <td>1</td>\n",
              "      <td>3</td>\n",
              "      <td>2</td>\n",
              "      <td>3</td>\n",
              "      <td>2</td>\n",
              "      <td>2</td>\n",
              "      <td>3</td>\n",
              "      <td>1</td>\n",
              "      <td>1</td>\n",
              "    </tr>\n",
              "    <tr>\n",
              "      <th>2</th>\n",
              "      <td>STUDENT3</td>\n",
              "      <td>2</td>\n",
              "      <td>2</td>\n",
              "      <td>2</td>\n",
              "      <td>3</td>\n",
              "      <td>2</td>\n",
              "      <td>2</td>\n",
              "      <td>2</td>\n",
              "      <td>2</td>\n",
              "      <td>4</td>\n",
              "      <td>...</td>\n",
              "      <td>1</td>\n",
              "      <td>1</td>\n",
              "      <td>2</td>\n",
              "      <td>2</td>\n",
              "      <td>1</td>\n",
              "      <td>1</td>\n",
              "      <td>2</td>\n",
              "      <td>2</td>\n",
              "      <td>1</td>\n",
              "      <td>1</td>\n",
              "    </tr>\n",
              "    <tr>\n",
              "      <th>3</th>\n",
              "      <td>STUDENT4</td>\n",
              "      <td>1</td>\n",
              "      <td>1</td>\n",
              "      <td>1</td>\n",
              "      <td>3</td>\n",
              "      <td>1</td>\n",
              "      <td>2</td>\n",
              "      <td>1</td>\n",
              "      <td>2</td>\n",
              "      <td>1</td>\n",
              "      <td>...</td>\n",
              "      <td>1</td>\n",
              "      <td>2</td>\n",
              "      <td>3</td>\n",
              "      <td>2</td>\n",
              "      <td>2</td>\n",
              "      <td>1</td>\n",
              "      <td>3</td>\n",
              "      <td>2</td>\n",
              "      <td>1</td>\n",
              "      <td>1</td>\n",
              "    </tr>\n",
              "    <tr>\n",
              "      <th>4</th>\n",
              "      <td>STUDENT5</td>\n",
              "      <td>2</td>\n",
              "      <td>2</td>\n",
              "      <td>1</td>\n",
              "      <td>3</td>\n",
              "      <td>2</td>\n",
              "      <td>2</td>\n",
              "      <td>1</td>\n",
              "      <td>3</td>\n",
              "      <td>1</td>\n",
              "      <td>...</td>\n",
              "      <td>2</td>\n",
              "      <td>1</td>\n",
              "      <td>2</td>\n",
              "      <td>2</td>\n",
              "      <td>2</td>\n",
              "      <td>1</td>\n",
              "      <td>2</td>\n",
              "      <td>2</td>\n",
              "      <td>1</td>\n",
              "      <td>1</td>\n",
              "    </tr>\n",
              "    <tr>\n",
              "      <th>...</th>\n",
              "      <td>...</td>\n",
              "      <td>...</td>\n",
              "      <td>...</td>\n",
              "      <td>...</td>\n",
              "      <td>...</td>\n",
              "      <td>...</td>\n",
              "      <td>...</td>\n",
              "      <td>...</td>\n",
              "      <td>...</td>\n",
              "      <td>...</td>\n",
              "      <td>...</td>\n",
              "      <td>...</td>\n",
              "      <td>...</td>\n",
              "      <td>...</td>\n",
              "      <td>...</td>\n",
              "      <td>...</td>\n",
              "      <td>...</td>\n",
              "      <td>...</td>\n",
              "      <td>...</td>\n",
              "      <td>...</td>\n",
              "      <td>...</td>\n",
              "    </tr>\n",
              "    <tr>\n",
              "      <th>140</th>\n",
              "      <td>STUDENT141</td>\n",
              "      <td>2</td>\n",
              "      <td>1</td>\n",
              "      <td>2</td>\n",
              "      <td>3</td>\n",
              "      <td>1</td>\n",
              "      <td>1</td>\n",
              "      <td>2</td>\n",
              "      <td>1</td>\n",
              "      <td>1</td>\n",
              "      <td>...</td>\n",
              "      <td>1</td>\n",
              "      <td>1</td>\n",
              "      <td>2</td>\n",
              "      <td>1</td>\n",
              "      <td>2</td>\n",
              "      <td>1</td>\n",
              "      <td>3</td>\n",
              "      <td>3</td>\n",
              "      <td>9</td>\n",
              "      <td>5</td>\n",
              "    </tr>\n",
              "    <tr>\n",
              "      <th>141</th>\n",
              "      <td>STUDENT142</td>\n",
              "      <td>1</td>\n",
              "      <td>1</td>\n",
              "      <td>2</td>\n",
              "      <td>4</td>\n",
              "      <td>2</td>\n",
              "      <td>2</td>\n",
              "      <td>2</td>\n",
              "      <td>1</td>\n",
              "      <td>4</td>\n",
              "      <td>...</td>\n",
              "      <td>1</td>\n",
              "      <td>1</td>\n",
              "      <td>3</td>\n",
              "      <td>2</td>\n",
              "      <td>2</td>\n",
              "      <td>1</td>\n",
              "      <td>5</td>\n",
              "      <td>3</td>\n",
              "      <td>9</td>\n",
              "      <td>5</td>\n",
              "    </tr>\n",
              "    <tr>\n",
              "      <th>142</th>\n",
              "      <td>STUDENT143</td>\n",
              "      <td>1</td>\n",
              "      <td>1</td>\n",
              "      <td>1</td>\n",
              "      <td>4</td>\n",
              "      <td>2</td>\n",
              "      <td>2</td>\n",
              "      <td>2</td>\n",
              "      <td>1</td>\n",
              "      <td>1</td>\n",
              "      <td>...</td>\n",
              "      <td>1</td>\n",
              "      <td>1</td>\n",
              "      <td>3</td>\n",
              "      <td>3</td>\n",
              "      <td>2</td>\n",
              "      <td>1</td>\n",
              "      <td>4</td>\n",
              "      <td>3</td>\n",
              "      <td>9</td>\n",
              "      <td>1</td>\n",
              "    </tr>\n",
              "    <tr>\n",
              "      <th>143</th>\n",
              "      <td>STUDENT144</td>\n",
              "      <td>2</td>\n",
              "      <td>1</td>\n",
              "      <td>2</td>\n",
              "      <td>4</td>\n",
              "      <td>1</td>\n",
              "      <td>1</td>\n",
              "      <td>1</td>\n",
              "      <td>5</td>\n",
              "      <td>2</td>\n",
              "      <td>...</td>\n",
              "      <td>2</td>\n",
              "      <td>1</td>\n",
              "      <td>2</td>\n",
              "      <td>1</td>\n",
              "      <td>2</td>\n",
              "      <td>1</td>\n",
              "      <td>5</td>\n",
              "      <td>3</td>\n",
              "      <td>9</td>\n",
              "      <td>4</td>\n",
              "    </tr>\n",
              "    <tr>\n",
              "      <th>144</th>\n",
              "      <td>STUDENT145</td>\n",
              "      <td>1</td>\n",
              "      <td>1</td>\n",
              "      <td>1</td>\n",
              "      <td>5</td>\n",
              "      <td>2</td>\n",
              "      <td>2</td>\n",
              "      <td>2</td>\n",
              "      <td>3</td>\n",
              "      <td>1</td>\n",
              "      <td>...</td>\n",
              "      <td>2</td>\n",
              "      <td>1</td>\n",
              "      <td>3</td>\n",
              "      <td>2</td>\n",
              "      <td>3</td>\n",
              "      <td>1</td>\n",
              "      <td>5</td>\n",
              "      <td>4</td>\n",
              "      <td>9</td>\n",
              "      <td>3</td>\n",
              "    </tr>\n",
              "  </tbody>\n",
              "</table>\n",
              "<p>145 rows × 33 columns</p>\n",
              "</div>\n",
              "    <div class=\"colab-df-buttons\">\n",
              "\n",
              "  <div class=\"colab-df-container\">\n",
              "    <button class=\"colab-df-convert\" onclick=\"convertToInteractive('df-30576966-0ae1-4419-ba9d-10c81302233d')\"\n",
              "            title=\"Convert this dataframe to an interactive table.\"\n",
              "            style=\"display:none;\">\n",
              "\n",
              "  <svg xmlns=\"http://www.w3.org/2000/svg\" height=\"24px\" viewBox=\"0 -960 960 960\">\n",
              "    <path d=\"M120-120v-720h720v720H120Zm60-500h600v-160H180v160Zm220 220h160v-160H400v160Zm0 220h160v-160H400v160ZM180-400h160v-160H180v160Zm440 0h160v-160H620v160ZM180-180h160v-160H180v160Zm440 0h160v-160H620v160Z\"/>\n",
              "  </svg>\n",
              "    </button>\n",
              "\n",
              "  <style>\n",
              "    .colab-df-container {\n",
              "      display:flex;\n",
              "      gap: 12px;\n",
              "    }\n",
              "\n",
              "    .colab-df-convert {\n",
              "      background-color: #E8F0FE;\n",
              "      border: none;\n",
              "      border-radius: 50%;\n",
              "      cursor: pointer;\n",
              "      display: none;\n",
              "      fill: #1967D2;\n",
              "      height: 32px;\n",
              "      padding: 0 0 0 0;\n",
              "      width: 32px;\n",
              "    }\n",
              "\n",
              "    .colab-df-convert:hover {\n",
              "      background-color: #E2EBFA;\n",
              "      box-shadow: 0px 1px 2px rgba(60, 64, 67, 0.3), 0px 1px 3px 1px rgba(60, 64, 67, 0.15);\n",
              "      fill: #174EA6;\n",
              "    }\n",
              "\n",
              "    .colab-df-buttons div {\n",
              "      margin-bottom: 4px;\n",
              "    }\n",
              "\n",
              "    [theme=dark] .colab-df-convert {\n",
              "      background-color: #3B4455;\n",
              "      fill: #D2E3FC;\n",
              "    }\n",
              "\n",
              "    [theme=dark] .colab-df-convert:hover {\n",
              "      background-color: #434B5C;\n",
              "      box-shadow: 0px 1px 3px 1px rgba(0, 0, 0, 0.15);\n",
              "      filter: drop-shadow(0px 1px 2px rgba(0, 0, 0, 0.3));\n",
              "      fill: #FFFFFF;\n",
              "    }\n",
              "  </style>\n",
              "\n",
              "    <script>\n",
              "      const buttonEl =\n",
              "        document.querySelector('#df-30576966-0ae1-4419-ba9d-10c81302233d button.colab-df-convert');\n",
              "      buttonEl.style.display =\n",
              "        google.colab.kernel.accessAllowed ? 'block' : 'none';\n",
              "\n",
              "      async function convertToInteractive(key) {\n",
              "        const element = document.querySelector('#df-30576966-0ae1-4419-ba9d-10c81302233d');\n",
              "        const dataTable =\n",
              "          await google.colab.kernel.invokeFunction('convertToInteractive',\n",
              "                                                    [key], {});\n",
              "        if (!dataTable) return;\n",
              "\n",
              "        const docLinkHtml = 'Like what you see? Visit the ' +\n",
              "          '<a target=\"_blank\" href=https://colab.research.google.com/notebooks/data_table.ipynb>data table notebook</a>'\n",
              "          + ' to learn more about interactive tables.';\n",
              "        element.innerHTML = '';\n",
              "        dataTable['output_type'] = 'display_data';\n",
              "        await google.colab.output.renderOutput(dataTable, element);\n",
              "        const docLink = document.createElement('div');\n",
              "        docLink.innerHTML = docLinkHtml;\n",
              "        element.appendChild(docLink);\n",
              "      }\n",
              "    </script>\n",
              "  </div>\n",
              "\n",
              "\n",
              "<div id=\"df-fa97f31e-1068-47fe-8f02-13ce8b1ff3db\">\n",
              "  <button class=\"colab-df-quickchart\" onclick=\"quickchart('df-fa97f31e-1068-47fe-8f02-13ce8b1ff3db')\"\n",
              "            title=\"Suggest charts\"\n",
              "            style=\"display:none;\">\n",
              "\n",
              "<svg xmlns=\"http://www.w3.org/2000/svg\" height=\"24px\"viewBox=\"0 0 24 24\"\n",
              "     width=\"24px\">\n",
              "    <g>\n",
              "        <path d=\"M19 3H5c-1.1 0-2 .9-2 2v14c0 1.1.9 2 2 2h14c1.1 0 2-.9 2-2V5c0-1.1-.9-2-2-2zM9 17H7v-7h2v7zm4 0h-2V7h2v10zm4 0h-2v-4h2v4z\"/>\n",
              "    </g>\n",
              "</svg>\n",
              "  </button>\n",
              "\n",
              "<style>\n",
              "  .colab-df-quickchart {\n",
              "      --bg-color: #E8F0FE;\n",
              "      --fill-color: #1967D2;\n",
              "      --hover-bg-color: #E2EBFA;\n",
              "      --hover-fill-color: #174EA6;\n",
              "      --disabled-fill-color: #AAA;\n",
              "      --disabled-bg-color: #DDD;\n",
              "  }\n",
              "\n",
              "  [theme=dark] .colab-df-quickchart {\n",
              "      --bg-color: #3B4455;\n",
              "      --fill-color: #D2E3FC;\n",
              "      --hover-bg-color: #434B5C;\n",
              "      --hover-fill-color: #FFFFFF;\n",
              "      --disabled-bg-color: #3B4455;\n",
              "      --disabled-fill-color: #666;\n",
              "  }\n",
              "\n",
              "  .colab-df-quickchart {\n",
              "    background-color: var(--bg-color);\n",
              "    border: none;\n",
              "    border-radius: 50%;\n",
              "    cursor: pointer;\n",
              "    display: none;\n",
              "    fill: var(--fill-color);\n",
              "    height: 32px;\n",
              "    padding: 0;\n",
              "    width: 32px;\n",
              "  }\n",
              "\n",
              "  .colab-df-quickchart:hover {\n",
              "    background-color: var(--hover-bg-color);\n",
              "    box-shadow: 0 1px 2px rgba(60, 64, 67, 0.3), 0 1px 3px 1px rgba(60, 64, 67, 0.15);\n",
              "    fill: var(--button-hover-fill-color);\n",
              "  }\n",
              "\n",
              "  .colab-df-quickchart-complete:disabled,\n",
              "  .colab-df-quickchart-complete:disabled:hover {\n",
              "    background-color: var(--disabled-bg-color);\n",
              "    fill: var(--disabled-fill-color);\n",
              "    box-shadow: none;\n",
              "  }\n",
              "\n",
              "  .colab-df-spinner {\n",
              "    border: 2px solid var(--fill-color);\n",
              "    border-color: transparent;\n",
              "    border-bottom-color: var(--fill-color);\n",
              "    animation:\n",
              "      spin 1s steps(1) infinite;\n",
              "  }\n",
              "\n",
              "  @keyframes spin {\n",
              "    0% {\n",
              "      border-color: transparent;\n",
              "      border-bottom-color: var(--fill-color);\n",
              "      border-left-color: var(--fill-color);\n",
              "    }\n",
              "    20% {\n",
              "      border-color: transparent;\n",
              "      border-left-color: var(--fill-color);\n",
              "      border-top-color: var(--fill-color);\n",
              "    }\n",
              "    30% {\n",
              "      border-color: transparent;\n",
              "      border-left-color: var(--fill-color);\n",
              "      border-top-color: var(--fill-color);\n",
              "      border-right-color: var(--fill-color);\n",
              "    }\n",
              "    40% {\n",
              "      border-color: transparent;\n",
              "      border-right-color: var(--fill-color);\n",
              "      border-top-color: var(--fill-color);\n",
              "    }\n",
              "    60% {\n",
              "      border-color: transparent;\n",
              "      border-right-color: var(--fill-color);\n",
              "    }\n",
              "    80% {\n",
              "      border-color: transparent;\n",
              "      border-right-color: var(--fill-color);\n",
              "      border-bottom-color: var(--fill-color);\n",
              "    }\n",
              "    90% {\n",
              "      border-color: transparent;\n",
              "      border-bottom-color: var(--fill-color);\n",
              "    }\n",
              "  }\n",
              "</style>\n",
              "\n",
              "  <script>\n",
              "    async function quickchart(key) {\n",
              "      const quickchartButtonEl =\n",
              "        document.querySelector('#' + key + ' button');\n",
              "      quickchartButtonEl.disabled = true;  // To prevent multiple clicks.\n",
              "      quickchartButtonEl.classList.add('colab-df-spinner');\n",
              "      try {\n",
              "        const charts = await google.colab.kernel.invokeFunction(\n",
              "            'suggestCharts', [key], {});\n",
              "      } catch (error) {\n",
              "        console.error('Error during call to suggestCharts:', error);\n",
              "      }\n",
              "      quickchartButtonEl.classList.remove('colab-df-spinner');\n",
              "      quickchartButtonEl.classList.add('colab-df-quickchart-complete');\n",
              "    }\n",
              "    (() => {\n",
              "      let quickchartButtonEl =\n",
              "        document.querySelector('#df-fa97f31e-1068-47fe-8f02-13ce8b1ff3db button');\n",
              "      quickchartButtonEl.style.display =\n",
              "        google.colab.kernel.accessAllowed ? 'block' : 'none';\n",
              "    })();\n",
              "  </script>\n",
              "</div>\n",
              "\n",
              "  <div id=\"id_d59d399c-b2c9-45a7-992f-cf88fa07d813\">\n",
              "    <style>\n",
              "      .colab-df-generate {\n",
              "        background-color: #E8F0FE;\n",
              "        border: none;\n",
              "        border-radius: 50%;\n",
              "        cursor: pointer;\n",
              "        display: none;\n",
              "        fill: #1967D2;\n",
              "        height: 32px;\n",
              "        padding: 0 0 0 0;\n",
              "        width: 32px;\n",
              "      }\n",
              "\n",
              "      .colab-df-generate:hover {\n",
              "        background-color: #E2EBFA;\n",
              "        box-shadow: 0px 1px 2px rgba(60, 64, 67, 0.3), 0px 1px 3px 1px rgba(60, 64, 67, 0.15);\n",
              "        fill: #174EA6;\n",
              "      }\n",
              "\n",
              "      [theme=dark] .colab-df-generate {\n",
              "        background-color: #3B4455;\n",
              "        fill: #D2E3FC;\n",
              "      }\n",
              "\n",
              "      [theme=dark] .colab-df-generate:hover {\n",
              "        background-color: #434B5C;\n",
              "        box-shadow: 0px 1px 3px 1px rgba(0, 0, 0, 0.15);\n",
              "        filter: drop-shadow(0px 1px 2px rgba(0, 0, 0, 0.3));\n",
              "        fill: #FFFFFF;\n",
              "      }\n",
              "    </style>\n",
              "    <button class=\"colab-df-generate\" onclick=\"generateWithVariable('data')\"\n",
              "            title=\"Generate code using this dataframe.\"\n",
              "            style=\"display:none;\">\n",
              "\n",
              "  <svg xmlns=\"http://www.w3.org/2000/svg\" height=\"24px\"viewBox=\"0 0 24 24\"\n",
              "       width=\"24px\">\n",
              "    <path d=\"M7,19H8.4L18.45,9,17,7.55,7,17.6ZM5,21V16.75L18.45,3.32a2,2,0,0,1,2.83,0l1.4,1.43a1.91,1.91,0,0,1,.58,1.4,1.91,1.91,0,0,1-.58,1.4L9.25,21ZM18.45,9,17,7.55Zm-12,3A5.31,5.31,0,0,0,4.9,8.1,5.31,5.31,0,0,0,1,6.5,5.31,5.31,0,0,0,4.9,4.9,5.31,5.31,0,0,0,6.5,1,5.31,5.31,0,0,0,8.1,4.9,5.31,5.31,0,0,0,12,6.5,5.46,5.46,0,0,0,6.5,12Z\"/>\n",
              "  </svg>\n",
              "    </button>\n",
              "    <script>\n",
              "      (() => {\n",
              "      const buttonEl =\n",
              "        document.querySelector('#id_d59d399c-b2c9-45a7-992f-cf88fa07d813 button.colab-df-generate');\n",
              "      buttonEl.style.display =\n",
              "        google.colab.kernel.accessAllowed ? 'block' : 'none';\n",
              "\n",
              "      buttonEl.onclick = () => {\n",
              "        google.colab.notebook.generateWithVariable('data');\n",
              "      }\n",
              "      })();\n",
              "    </script>\n",
              "  </div>\n",
              "\n",
              "    </div>\n",
              "  </div>\n"
            ]
          },
          "metadata": {},
          "execution_count": 52
        }
      ]
    },
    {
      "cell_type": "code",
      "source": [
        "features = data.iloc[:, 1:-1]\n",
        "target = data.iloc[:, -1:]"
      ],
      "metadata": {
        "id": "OoRMGHa5rado"
      },
      "execution_count": 53,
      "outputs": []
    },
    {
      "cell_type": "code",
      "source": [
        "X = np.array(features).astype(np.float64)\n",
        "y = np.array(target).astype(np.float64)\n",
        "\n",
        "n_features = X.shape[1]\n",
        "output_size = 1"
      ],
      "metadata": {
        "id": "3DTFf6M5roX4"
      },
      "execution_count": 54,
      "outputs": []
    },
    {
      "cell_type": "code",
      "source": [
        "dataset = TensorDataset(torch.tensor(X).float(), torch.tensor(y).float())"
      ],
      "metadata": {
        "id": "9lt8twR6r1oI"
      },
      "execution_count": 55,
      "outputs": []
    },
    {
      "cell_type": "code",
      "source": [
        "sample = dataset[0]\n",
        "input_sample, label_sample = sample\n",
        "print('input sample: ', input_sample)\n",
        "print('label sample: ', label_sample)"
      ],
      "metadata": {
        "colab": {
          "base_uri": "https://localhost:8080/"
        },
        "id": "_2dREeTbslYB",
        "outputId": "4f771683-8d30-4348-e95a-03301a8ebc5e"
      },
      "execution_count": 56,
      "outputs": [
        {
          "output_type": "stream",
          "name": "stdout",
          "text": [
            "input sample:  tensor([2., 2., 3., 3., 1., 2., 2., 1., 1., 1., 1., 2., 3., 1., 2., 5., 3., 2.,\n",
            "        2., 1., 1., 1., 1., 1., 3., 2., 1., 2., 1., 1., 1.])\n",
            "label sample:  tensor([1.])\n"
          ]
        }
      ]
    },
    {
      "cell_type": "code",
      "source": [
        "from torch.utils.data import random_split\n",
        "from torch.utils.data import DataLoader\n",
        "\n",
        "batch_size = 32\n",
        "\n",
        "# Split the dataset into train, validate, and test sets\n",
        "train_size = int(0.7 * len(dataset))\n",
        "val_size = int(0.15 * len(dataset))\n",
        "test_size = len(dataset) - train_size - val_size\n",
        "train_set, val_set, test_set = random_split(dataset, [train_size, val_size, test_size])\n",
        "\n",
        "# Create the dataloaders\n",
        "train_loader = DataLoader(train_set, batch_size=batch_size, shuffle=True)\n",
        "val_loader = DataLoader(val_set, batch_size=batch_size, shuffle=False)\n",
        "test_loader = DataLoader(test_set, batch_size=batch_size, shuffle=False)"
      ],
      "metadata": {
        "id": "6gpDMt-VtPbR"
      },
      "execution_count": 57,
      "outputs": []
    },
    {
      "cell_type": "code",
      "source": [
        "model =  nn.Sequential(\n",
        "    nn.Linear(n_features, 10),\n",
        "    nn.Linear(10, 5),\n",
        "    nn.Linear(5, output_size)\n",
        ")\n",
        "\n",
        "criterion = MSELoss()\n",
        "optimizer = optim.SGD(model.parameters(), lr = 0.001, momentum=0.9)\n",
        "\n",
        "# Training Loop\n",
        "num_epochs = 100\n",
        "epoch_train_loss = []\n",
        "epoch_val_loss = []\n",
        "for epoch in range(num_epochs):\n",
        "\n",
        "  # Training Loop\n",
        "  training_loss = 0.0\n",
        "  for i, data in enumerate(train_loader):\n",
        "    # Resetar os gradientes\n",
        "    optimizer.zero_grad()\n",
        "    # Pegue a feature e o target do dataloader\n",
        "    feature, target = data\n",
        "    # Realize o foward pass\n",
        "    pred = model(feature)\n",
        "    # Calcule a loss e gradientes\n",
        "    loss = criterion(pred, target)\n",
        "    loss.backward()\n",
        "    training_loss += loss.item()\n",
        "\n",
        "    # Atualize os parametros\n",
        "    optimizer.step()\n",
        "  epoch_train_loss.append(training_loss / len(train_loader))\n",
        "\n",
        "  # Validation Loop\n",
        "  validation_loss = 0.0\n",
        "  model.eval() #mude para o modo de avaliação\n",
        "  with torch.no_grad(): #desliga a atualização de parametros\n",
        "    for i, data in enumerate(val_loader):\n",
        "      feature, target = data\n",
        "      # Realize o foward pass\n",
        "      pred = model(feature)\n",
        "      # Calcule a loss e gradientes\n",
        "      loss = criterion(pred, target)\n",
        "      validation_loss += loss.item()\n",
        "  epoch_val_loss.append(validation_loss/len(val_loader))\n",
        "  model.train()"
      ],
      "metadata": {
        "id": "rsNIC7b-trq6"
      },
      "execution_count": 58,
      "outputs": []
    },
    {
      "cell_type": "code",
      "source": [
        "import matplotlib.pyplot as plt\n",
        "\n",
        "plt.plot(epoch_train_loss)\n",
        "plt.plot(epoch_val_loss)\n",
        "plt.title(\"Training Loss\")\n",
        "plt.legend([\"train loss\", \"validation loss\"])"
      ],
      "metadata": {
        "colab": {
          "base_uri": "https://localhost:8080/",
          "height": 469
        },
        "id": "0ulAlzZMvaXe",
        "outputId": "92a03327-54ac-468b-9f95-b75baaa954e1"
      },
      "execution_count": 59,
      "outputs": [
        {
          "output_type": "execute_result",
          "data": {
            "text/plain": [
              "<matplotlib.legend.Legend at 0x7ea03abe31f0>"
            ]
          },
          "metadata": {},
          "execution_count": 59
        },
        {
          "output_type": "display_data",
          "data": {
            "text/plain": [
              "<Figure size 640x480 with 1 Axes>"
            ],
            "image/png": "[encoded data removed]"
          },
          "metadata": {}
        }
      ]
    },
    {
      "cell_type": "code",
      "source": [
        " # Test Loop\n",
        "test_loss = 0.0\n",
        "\n",
        "model.eval()\n",
        "with torch.no_grad():\n",
        "  for i, data in enumerate(test_loader):\n",
        "    # Pegue a feature e o target do dataloader\n",
        "    feature, target = data\n",
        "    # Realize o foward pass\n",
        "    pred = model(feature)\n",
        "    # Calcule a loss e gradientes\n",
        "    loss = criterion(pred, target)\n",
        "    test_loss += loss.item()\n",
        "\n",
        "    # Atualize os parametros\n",
        "    optimizer.step()\n",
        "\n",
        "avg_test_loss = test_loss / len(test_loader)\n",
        "print(avg_test_loss)"
      ],
      "metadata": {
        "colab": {
          "base_uri": "https://localhost:8080/"
        },
        "id": "eaKNSnqe0tHf",
        "outputId": "c9e2a2ed-4ef2-4840-fdfc-d2e1c3a5a208"
      },
      "execution_count": 60,
      "outputs": [
        {
          "output_type": "stream",
          "name": "stdout",
          "text": [
            "4.374441623687744\n"
          ]
        }
      ]
    },
    {
      "cell_type": "code",
      "source": [],
      "metadata": {
        "id": "zh2ySvsB1SLV"
      },
      "execution_count": 60,
      "outputs": []
    }
  ]
}