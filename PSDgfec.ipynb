{
  "nbformat": 4,
  "nbformat_minor": 0,
  "metadata": {
    "colab": {
      "name": "PSDgfec.ipynb",
      "private_outputs": true,
      "provenance": [],
      "collapsed_sections": [],
      "include_colab_link": true
    },
    "kernelspec": {
      "name": "python3",
      "display_name": "Python 3"
    },
    "language_info": {
      "name": "python"
    }
  },
  "cells": [
    {
      "cell_type": "markdown",
      "metadata": {
        "id": "view-in-github",
        "colab_type": "text"
      },
      "source": [
        "<a href=\"https://colab.research.google.com/github/barauna-lo/Code_Library/blob/main/PSDgfec.ipynb\" target=\"_parent\"><img src=\"https://colab.research.google.com/assets/colab-badge.svg\" alt=\"Open In Colab\"/></a>"
      ]
    },
    {
      "cell_type": "code",
      "execution_count": null,
      "metadata": {
        "id": "_BON0H2HVLYa"
      },
      "outputs": [],
      "source": [
        "import matplotlib.pyplot as plt\n",
        "import matplotlib.mlab as mlab\n",
        "from scipy import stats, optimize\n",
        "import numpy as np\n",
        "import math\n",
        "\n",
        "\n",
        "def psd(data):\n",
        "\t\"\"\"Calcula o PSD de uma série temporal.\"\"\"\n",
        "\t\n",
        "\t# Define um intervalo para realizar o ajuste da reta\n",
        "\tINICIO = 10\n",
        "\tFIM = 1000\n",
        "\t# O vetor com o tempo é o tamanho do número de pontos\n",
        "\tN = len(data)\n",
        "\ttempo = np.arange(len(data))\n",
        "\t# Define a frequência de amostragem\n",
        "\tdt = (tempo[-1] - tempo[0] / (N - 1))\n",
        "\tfs = 1 / dt\n",
        "\t# Calcula o PSD utilizando o MLAB\n",
        "\tpower, freqs = mlab.psd(data, Fs = fs, NFFT = N, scale_by_freq = False)\n",
        "\t# Calcula a porcentagem de pontos utilizados na reta de ajuste\n",
        "\ttotalFrequencias = len(freqs)\n",
        "\ttotalPSD = FIM - INICIO\n",
        "\tporcentagemPSD = int(100 * totalPSD / totalFrequencias)\n",
        "\t# Seleciona os dados dentro do intervalo de seleção\n",
        "\txdata = freqs[INICIO:FIM]\n",
        "\tydata = power[INICIO:FIM]\n",
        "\t# Simula o erro\n",
        "\tyerr = 0.2 * ydata\n",
        "\t# Define uma função para calcular a Lei de Potência\n",
        "\tpowerlaw = lambda x, amp, index: amp * (x**index)\n",
        "\t# Converte os dados para o formato LOG\n",
        "\tlogx = np.log10(xdata)\n",
        "\tlogy = np.log10(ydata)\n",
        "\t# Define a função para realizar o ajuste\n",
        "\tfitfunc = lambda p, x: p[0] + p[1] * x\n",
        "\terrfunc = lambda p, x, y, err: (y - fitfunc(p, x)) / err    \n",
        "\tlogyerr = yerr / ydata\n",
        "\t# Calcula a reta de ajuste\n",
        "\tpinit = [1.0, -1.0]\n",
        "\tout = optimize.leastsq(errfunc, pinit, args = (logx, logy, logyerr), full_output = 1)    \n",
        "\tpfinal = out[0]\n",
        "\tcovar = out[1]\n",
        "\tindex = pfinal[1]\n",
        "\tamp = 10.0 ** pfinal[0]\n",
        "\tindexErr = np.sqrt(covar[0][0])\n",
        "\tampErr = np.sqrt(covar[1][1]) * amp\n",
        "\t# Retorna os valores obtidos\n",
        "\treturn pfinal[1]"
      ]
    }
  ]
}